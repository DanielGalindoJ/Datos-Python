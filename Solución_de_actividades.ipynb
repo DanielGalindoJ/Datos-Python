{
  "cells": [
    {
      "cell_type": "markdown",
      "metadata": {
        "id": "8hkrijPKjk8W"
      },
      "source": [
        "### Cristian Daniel Galindo JImenez"
      ]
    },
    {
      "cell_type": "markdown",
      "metadata": {
        "id": "asa3Y_Kj8cYD"
      },
      "source": [
        "### Actividad #1\n",
        "\n",
        "Abra el intérprete de Python e intente convertir a entero las siguientes cadenas. ¿Qué resultado obtiene?"
      ]
    },
    {
      "cell_type": "code",
      "execution_count": null,
      "metadata": {
        "id": "E8IHn03cjk8Z",
        "outputId": "330b260e-2bb9-4c1a-c745-091c67865128"
      },
      "outputs": [
        {
          "data": {
            "text/plain": [
              "1"
            ]
          },
          "execution_count": 2,
          "metadata": {},
          "output_type": "execute_result"
        }
      ],
      "source": [
        "int('1')"
      ]
    },
    {
      "cell_type": "code",
      "execution_count": null,
      "metadata": {
        "id": "OI6jIl4ujk8a"
      },
      "outputs": [],
      "source": [
        "int('1.1') # No puede convertirse directamente a entero, arrojará un ValueError"
      ]
    },
    {
      "cell_type": "code",
      "execution_count": null,
      "metadata": {
        "id": "NQ_637iXjk8a",
        "outputId": "764a04b8-56ba-411e-bf38-e95d385cf0f7"
      },
      "outputs": [
        {
          "data": {
            "text/plain": [
              "-3"
            ]
          },
          "execution_count": 25,
          "metadata": {},
          "output_type": "execute_result"
        }
      ],
      "source": [
        "int('-3')"
      ]
    },
    {
      "cell_type": "code",
      "execution_count": null,
      "metadata": {
        "id": "-uGC-Zvgjk8a"
      },
      "outputs": [],
      "source": [
        "int(a) # No se puede volver entrero ya que es texto"
      ]
    },
    {
      "cell_type": "markdown",
      "metadata": {
        "id": "QibjJU0gjk8b"
      },
      "source": [
        "\n",
        "Abra el intérprete de Python e intente convertir a entero los siguientes números. ¿Qué resultado obtiene?"
      ]
    },
    {
      "cell_type": "code",
      "execution_count": null,
      "metadata": {
        "id": "f0DHvaRJjk8b",
        "outputId": "4d1e9168-613f-4056-a6d9-030a5ffbee51"
      },
      "outputs": [
        {
          "data": {
            "text/plain": [
              "3"
            ]
          },
          "execution_count": 22,
          "metadata": {},
          "output_type": "execute_result"
        }
      ],
      "source": [
        "int(3)"
      ]
    },
    {
      "cell_type": "code",
      "execution_count": null,
      "metadata": {
        "id": "UTMPWjEtjk8b",
        "outputId": "75ed0e72-744c-4745-c4d0-3a9df3817930"
      },
      "outputs": [
        {
          "data": {
            "text/plain": [
              "2"
            ]
          },
          "execution_count": 21,
          "metadata": {},
          "output_type": "execute_result"
        }
      ],
      "source": [
        "int(2.86)"
      ]
    },
    {
      "cell_type": "code",
      "execution_count": null,
      "metadata": {
        "id": "cNyWsFhBjk8b"
      },
      "outputs": [],
      "source": [
        "int(2,86) #No se puede convertir en entero ya que la coma \",\" no es un separador"
      ]
    },
    {
      "cell_type": "code",
      "execution_count": null,
      "metadata": {
        "id": "y6KaYIL2jk8b",
        "outputId": "1f976d6a-58d4-4bd4-f40c-ac50d21952ce"
      },
      "outputs": [
        {
          "data": {
            "text/plain": [
              "3"
            ]
          },
          "execution_count": 4,
          "metadata": {},
          "output_type": "execute_result"
        }
      ],
      "source": [
        "int(3.4)"
      ]
    },
    {
      "cell_type": "code",
      "execution_count": null,
      "metadata": {
        "id": "r0mvBorzjk8c"
      },
      "outputs": [],
      "source": [
        "int(3,4) #No se puede convertir en entero ya que la coma \",\" no es un separador"
      ]
    },
    {
      "cell_type": "markdown",
      "metadata": {
        "id": "uqjJ4ZfR9lN5"
      },
      "source": [
        "##  Variables, expresiones y operadores"
      ]
    },
    {
      "cell_type": "markdown",
      "metadata": {
        "id": "qFhiSg_uOL9e"
      },
      "source": [
        "### Actividad #2\n",
        "\n",
        "1. ¿Cuáles de las siguientes líneas no son instrucciones válidas en Python? (suponga que las instrucciones se van ejecutando una después de la otra)"
      ]
    },
    {
      "cell_type": "code",
      "execution_count": null,
      "metadata": {
        "id": "6MXf1LmQjk8c"
      },
      "outputs": [],
      "source": [
        "variable = 5"
      ]
    },
    {
      "cell_type": "code",
      "execution_count": null,
      "metadata": {
        "id": "PCA-6seSjk8c"
      },
      "outputs": [],
      "source": [
        "5 = variable # No se puede ya que un numero no pueden ser definidos como variables"
      ]
    },
    {
      "cell_type": "code",
      "execution_count": null,
      "metadata": {
        "id": "6A9q4fXhjk8d"
      },
      "outputs": [],
      "source": [
        "var1 = var2 + 5 # No se puede ya que no tenemos definida \"var2\""
      ]
    },
    {
      "cell_type": "code",
      "execution_count": null,
      "metadata": {
        "id": "qJGwVNiPjk8d"
      },
      "outputs": [],
      "source": [
        "var1 = var1 + 5 # No se puede ya que para hallar \"var1\" no se puede sumar \"var1\""
      ]
    },
    {
      "cell_type": "code",
      "execution_count": null,
      "metadata": {
        "id": "Hup1QCG7jk8d"
      },
      "outputs": [],
      "source": [
        "var = var + 5 # No se puede ya que para hallar \"var\" no se puede sumar \"var\""
      ]
    },
    {
      "cell_type": "markdown",
      "metadata": {
        "id": "NNICW7Hajk8d"
      },
      "source": [
        "2) ¿Qué resultados se obtendrán al evaluar las siguientes expresiones en Python? Verifique los resultados evaluando las expresiones en el intérprete de Python."
      ]
    },
    {
      "cell_type": "code",
      "execution_count": null,
      "metadata": {
        "id": "sKS0uNRDjk8d",
        "outputId": "2092c60e-75cd-465f-afd9-a1dcc3b02ed2"
      },
      "outputs": [
        {
          "data": {
            "text/plain": [
              "8"
            ]
          },
          "execution_count": 6,
          "metadata": {},
          "output_type": "execute_result"
        }
      ],
      "source": [
        "2 + 3 + 1 + 2"
      ]
    },
    {
      "cell_type": "code",
      "execution_count": null,
      "metadata": {
        "id": "6Mt_oIbsjk8d",
        "outputId": "06a3f237-7a2c-46e7-abd9-9e3d3e285c26"
      },
      "outputs": [
        {
          "data": {
            "text/plain": [
              "7"
            ]
          },
          "execution_count": 7,
          "metadata": {},
          "output_type": "execute_result"
        }
      ],
      "source": [
        "2 + 3 * 1 + 2"
      ]
    },
    {
      "cell_type": "code",
      "execution_count": null,
      "metadata": {
        "id": "jhpDxWdWjk8d",
        "outputId": "4bf1d93e-5037-417c-b2b7-f0a2e65f5583"
      },
      "outputs": [
        {
          "data": {
            "text/plain": [
              "7"
            ]
          },
          "execution_count": 9,
          "metadata": {},
          "output_type": "execute_result"
        }
      ],
      "source": [
        "(2 + 3) * 1 + 2"
      ]
    },
    {
      "cell_type": "code",
      "execution_count": null,
      "metadata": {
        "id": "hjuemdSljk8e",
        "outputId": "7c889f77-4201-4f01-fc86-dfcd78445d59"
      },
      "outputs": [
        {
          "data": {
            "text/plain": [
              "15"
            ]
          },
          "execution_count": 8,
          "metadata": {},
          "output_type": "execute_result"
        }
      ],
      "source": [
        "(2 + 3) * (1 + 2)"
      ]
    },
    {
      "cell_type": "code",
      "execution_count": null,
      "metadata": {
        "id": "4HSabiPzjk8e",
        "outputId": "1605f28d-63cc-4c83-af41-79e5a977145b"
      },
      "outputs": [
        {
          "data": {
            "text/plain": [
              "-6"
            ]
          },
          "execution_count": 10,
          "metadata": {},
          "output_type": "execute_result"
        }
      ],
      "source": [
        "+-6"
      ]
    },
    {
      "cell_type": "code",
      "execution_count": null,
      "metadata": {
        "id": "WyTr8EbJjk8f",
        "outputId": "5c1b7ed3-1f6f-4781-a504-f65ea8bf1a56"
      },
      "outputs": [
        {
          "data": {
            "text/plain": [
              "6"
            ]
          },
          "execution_count": 11,
          "metadata": {},
          "output_type": "execute_result"
        }
      ],
      "source": [
        "-+-+6"
      ]
    },
    {
      "cell_type": "code",
      "execution_count": null,
      "metadata": {
        "id": "OHyqG-bJjk8f",
        "outputId": "41922361-747f-4a30-9e91-e2709540b1e9"
      },
      "outputs": [
        {
          "data": {
            "text/plain": [
              "-2.5"
            ]
          },
          "execution_count": 12,
          "metadata": {},
          "output_type": "execute_result"
        }
      ],
      "source": [
        "-3 / 2 - 1"
      ]
    },
    {
      "cell_type": "code",
      "execution_count": null,
      "metadata": {
        "id": "3srDIg3Yjk8g",
        "outputId": "ce59c09e-15c6-44c5-dcbd-4b6cec400819"
      },
      "outputs": [
        {
          "data": {
            "text/plain": [
              "-3"
            ]
          },
          "execution_count": 13,
          "metadata": {},
          "output_type": "execute_result"
        }
      ],
      "source": [
        "-3 // 2 - 1 # División Entera"
      ]
    },
    {
      "cell_type": "code",
      "execution_count": null,
      "metadata": {
        "id": "Vs2-lZYNjk8h",
        "outputId": "a17923c0-4ab5-48c0-ebf9-d32c23bd335f"
      },
      "outputs": [
        {
          "data": {
            "text/plain": [
              "0"
            ]
          },
          "execution_count": 14,
          "metadata": {},
          "output_type": "execute_result"
        }
      ],
      "source": [
        "3 % 2 - 1 # Modulo"
      ]
    },
    {
      "cell_type": "markdown",
      "metadata": {
        "id": "awQYhzCijk8j"
      },
      "source": [
        "3) ¿Qué valor se mostrará en la pantalla después de ejecutar el siguiente código?"
      ]
    },
    {
      "cell_type": "code",
      "execution_count": null,
      "metadata": {
        "id": "J6IamYGzjk8j",
        "outputId": "2742ab35-553b-4b4e-bfb9-18bb04e3a682"
      },
      "outputs": [
        {
          "name": "stdout",
          "output_type": "stream",
          "text": [
            "0.5\n"
          ]
        }
      ],
      "source": [
        "z = 1\n",
        "z += 2\n",
        "z *= 2\n",
        "z //= 2\n",
        "z -= 2\n",
        "z %= 2\n",
        "z ** 2\n",
        "z /= 2\n",
        "print(z)"
      ]
    },
    {
      "cell_type": "markdown",
      "metadata": {
        "id": "dHbrAbpgjk8j"
      },
      "source": [
        "4) ¿Qué resultado se obtendrá al evaluar la siguiente expresión en Python?"
      ]
    },
    {
      "cell_type": "code",
      "execution_count": null,
      "metadata": {
        "id": "Ud8SegKIjk8j",
        "outputId": "dda0eebd-275f-49ab-8262-dd50a36e6246"
      },
      "outputs": [
        {
          "data": {
            "text/plain": [
              "4.0"
            ]
          },
          "execution_count": 15,
          "metadata": {},
          "output_type": "execute_result"
        }
      ],
      "source": [
        "25 / 3 // 2"
      ]
    },
    {
      "cell_type": "code",
      "execution_count": null,
      "metadata": {
        "id": "j-XJGLHBjk8k",
        "outputId": "8723072c-4706-4bf3-fc9e-4715afe4a08b"
      },
      "outputs": [
        {
          "data": {
            "text/plain": [
              "25.0"
            ]
          },
          "execution_count": 16,
          "metadata": {},
          "output_type": "execute_result"
        }
      ],
      "source": [
        "25 / (3 // 2)"
      ]
    },
    {
      "cell_type": "code",
      "execution_count": null,
      "metadata": {
        "id": "7LYCbAU8jk8k",
        "outputId": "4c95bce0-16d8-4813-943d-823e24a4a582"
      },
      "outputs": [
        {
          "data": {
            "text/plain": [
              "4.0"
            ]
          },
          "execution_count": 17,
          "metadata": {},
          "output_type": "execute_result"
        }
      ],
      "source": [
        "(25 / 3) // 2"
      ]
    },
    {
      "cell_type": "code",
      "execution_count": null,
      "metadata": {
        "id": "bXdlZAVEjk8k",
        "outputId": "5aa7d9d2-d2af-4d4f-80ef-25648be58eb2"
      },
      "outputs": [
        {
          "data": {
            "text/plain": [
              "4.0"
            ]
          },
          "execution_count": 18,
          "metadata": {},
          "output_type": "execute_result"
        }
      ],
      "source": [
        "25 // 3 / 2"
      ]
    },
    {
      "cell_type": "code",
      "execution_count": null,
      "metadata": {
        "id": "4JdXjWIqjk8k",
        "outputId": "13b7b3fe-b4d4-4252-e5c3-62fb076463e1"
      },
      "outputs": [
        {
          "data": {
            "text/plain": [
              "16.0"
            ]
          },
          "execution_count": 19,
          "metadata": {},
          "output_type": "execute_result"
        }
      ],
      "source": [
        "25 // (3 / 2)"
      ]
    },
    {
      "cell_type": "code",
      "execution_count": null,
      "metadata": {
        "id": "mF47zdAMjk8l",
        "outputId": "9e4e5d92-c832-42aa-fd80-aa5eee76aaad"
      },
      "outputs": [
        {
          "data": {
            "text/plain": [
              "4.0"
            ]
          },
          "execution_count": 20,
          "metadata": {},
          "output_type": "execute_result"
        }
      ],
      "source": [
        "(25 // 3) / 2"
      ]
    },
    {
      "cell_type": "markdown",
      "metadata": {
        "id": "ArWwv_kCjk8l"
      },
      "source": [
        "5) Determina mentalmente (sin programar) el resultado que aparecerá por pantalla a partir de las siguientes variables:**"
      ]
    },
    {
      "cell_type": "code",
      "execution_count": null,
      "metadata": {
        "id": "OY6JinF0jk8l"
      },
      "outputs": [],
      "source": [
        "a = 10\n",
        "b = -5\n",
        "c = \"Hola \"\n",
        "d = [1, 2, 3]"
      ]
    },
    {
      "cell_type": "code",
      "execution_count": null,
      "metadata": {
        "id": "0O74mCD6jk8l"
      },
      "outputs": [],
      "source": [
        "print(a * 5)  # 50\n",
        "print(a - b)  # 15\n",
        "print(c + \"Mundo\")   # \"Hola Mundo\"\n",
        "print(c * 2)        # \"Hola Hola\"\n",
        "print(c[-1]) # El último carácter de la cadena \"Hola \" es el espacio en blanco\n",
        "print(c[1:]) # Devuelve todos los caracteres de la cadena \"Hola \" comenzando desde el segundo carácter, es decir, \"ola \".\n",
        "print(d + d) # [1, 2, 3 , 1, 2, 3]"
      ]
    },
    {
      "cell_type": "markdown",
      "metadata": {
        "id": "mpldVu4ijk8m"
      },
      "source": [
        "6) El siguiente código pretende realizar una media entre 3 números, pero no funciona correctamente. ¿Eres capaz de identificar el problema y solucionarlo?"
      ]
    },
    {
      "cell_type": "code",
      "execution_count": null,
      "metadata": {
        "id": "8CcRBfwZjk8m"
      },
      "outputs": [],
      "source": [
        "numero_1 = 9\n",
        "numero_2 = 3\n",
        "numero_3 = 6\n",
        "media = numero_1 + numero_2 + numero_3 / 3\n",
        "print(\"La nota media es\", media)"
      ]
    },
    {
      "cell_type": "markdown",
      "metadata": {
        "id": "AItqBcSwjk8m"
      },
      "source": [
        "El problema en el código radica en la forma en que estás calculando la media. La división no se está aplicando al resultado de la suma de los tres números, sino solamente al tercer número.\n",
        "\n",
        "Para corregir esto, necesitas agrupar la suma de los tres números primero y luego dividir por 3. Aquí está el código corregido:"
      ]
    },
    {
      "cell_type": "code",
      "execution_count": null,
      "metadata": {
        "colab": {
          "base_uri": "https://localhost:8080/"
        },
        "id": "S69E8VPLjk8m",
        "outputId": "0d5268a9-2dbc-4f9b-cc9a-1f4b8949c585"
      },
      "outputs": [
        {
          "name": "stdout",
          "output_type": "stream",
          "text": [
            "La nota media es 6.0\n"
          ]
        }
      ],
      "source": [
        "numero_1 = 9\n",
        "numero_2 = 3\n",
        "numero_3 = 6\n",
        "media = (numero_1 + numero_2 + numero_3) / 3\n",
        "print(\"La nota media es\", media)"
      ]
    },
    {
      "cell_type": "markdown",
      "metadata": {
        "id": "MMoxDykSgA7e"
      },
      "source": [
        "### Actividad #3\n",
        "Indice de masa corporal\n",
        "\n",
        "Cree una función que pueda calcular el índice de masa corporal (BMI) de una persona.\n",
        "\n",
        "La fórmula para calcular el BMI es la siguiente:\n",
        "\n",
        "BMI = peso/(altura^2)\n",
        "\n",
        "En esta fórmula el peso está en kilogramos y la altura en metros. Tenga en cuenta que el peso y altura que reciban su función, van a estar en libras y pulgadas respectivamente, ya que su función será usada en los Estados Unidos.\n",
        "\n",
        "Recuerde que:\n",
        "\n",
        "1 libra corresponde a 0.45kg.\n",
        "\n",
        "1 pulgada corresponde a 0.025 metros.\n",
        "\n",
        "El valor de retorno debe estar redondeado a dos decimales.\n",
        "\n",
        "Su solución debe tener una función de acuerdo con la siguiente especificación:\n",
        "\n",
        "Nombre de la función: calcular_BMI\n",
        "Si lo requiere, puede agregar funciones adicionales."
      ]
    },
    {
      "cell_type": "code",
      "execution_count": null,
      "metadata": {
        "id": "TBtfTYKfgD8K"
      },
      "outputs": [],
      "source": [
        "def libras_a_kg(peso_libras):\n",
        "    return peso_libras * 0.45\n",
        "\n",
        "def pulgadas_a_metros(altura_pulgadas):\n",
        "    return altura_pulgadas * 0.025\n",
        "\n",
        "def calcular_BMI():\n",
        "    peso_libras = float(input(\"Ingrese su peso en libras: \"))\n",
        "    altura_pulgadas = float(input(\"Ingrese su altura en pulgadas: \"))\n",
        "\n",
        "    peso_kg = libras_a_kg(peso_libras)\n",
        "    altura_metros = pulgadas_a_metros(altura_pulgadas)\n",
        "    bmi = peso_kg / (altura_metros ** 2)\n",
        "    return round(bmi, 2)\n",
        "\n",
        "# Ejemplo de uso\n",
        "bmi = calcular_BMI()\n",
        "print(\"Su índice de masa corporal (BMI) es:\", bmi)"
      ]
    },
    {
      "cell_type": "markdown",
      "metadata": {
        "id": "kBeloTp4gJEK"
      },
      "source": [
        "### Variables locales"
      ]
    },
    {
      "cell_type": "markdown",
      "metadata": {
        "id": "sIz6mSH0gLtb"
      },
      "source": [
        "### Actividad #4\n",
        "Considere el software que se ejecuta en una máquina expendedora. Una de las tareas que debe realizar es determinar cuánto cambio debe entregarle al cliente luego de que paga. Escriba una función que recibe la cantidad de dinero (en pesos) a dar como cambio al cliente y retorne un mensaje con la cantidad de monedas de cada denominación que deben ser entregadas, teniendo en cuenta que el cambio se debe otorgar con la menor cantidad de monedas posible.\n",
        "\n",
        "La máquina cuenta con monedas de 500, 200, 100 y 50 pesos, y el cambio total se entregará con monedas de estas denominaciones. El mensaje retornado DEBE seguir el siguiente formato: “A,B,C,D” (sin espacios intermedios) donde A, B, C y D son la cantidad de monedas de 500, 200, 100 y 50, respectivamente.\n",
        "\n",
        "Su solución debe tener una función de acuerdo con la siguiente especificación:\n",
        "\n",
        "Nombre de la función: calcular_cambio\n",
        "Si lo requiere, puede agregar funciones adicionales."
      ]
    },
    {
      "cell_type": "code",
      "execution_count": null,
      "metadata": {
        "colab": {
          "base_uri": "https://localhost:8080/"
        },
        "id": "ee8U6ehQaVVM",
        "outputId": "a1b1ef29-6f87-415c-f4c3-4b2d56d03b2d"
      },
      "outputs": [
        {
          "name": "stdout",
          "output_type": "stream",
          "text": [
            "Ingrese el precio del producto en pesos: 4500\n",
            "Ingrese la cantidad pagada por el cliente en pesos: 5000\n",
            "El cambio a entregar es: 1 monedas de 500 pesos, 0 monedas de 200 pesos, 0 monedas de 100 pesos y 0 monedas de 50 pesos.\n"
          ]
        }
      ],
      "source": [
        "def calcular_cambio():\n",
        "    precio_producto = int(input(\"Ingrese el precio del producto en pesos: \"))\n",
        "    cantidad_pagada = int(input(\"Ingrese la cantidad pagada por el cliente en pesos: \"))\n",
        "\n",
        "    cambio = cantidad_pagada - precio_producto\n",
        "    monedas_500 = cambio // 500\n",
        "    cambio %= 500\n",
        "    monedas_200 = cambio // 200\n",
        "    cambio %= 200\n",
        "    monedas_100 = cambio // 100\n",
        "    cambio %= 100\n",
        "    monedas_50 = cambio // 50\n",
        "\n",
        "    mensaje = f\"El cambio a entregar es: {monedas_500} monedas de 500 pesos, {monedas_200} monedas de 200 pesos, {monedas_100} monedas de 100 pesos y {monedas_50} monedas de 50 pesos.\"\n",
        "\n",
        "    return mensaje\n",
        "\n",
        "# Ejemplo de uso:\n",
        "print(calcular_cambio())\n"
      ]
    },
    {
      "cell_type": "markdown",
      "metadata": {
        "id": "W5cZtAmcgTor"
      },
      "source": [
        "### Actividad #5\n",
        "Una agencia de viajes necesita informar a sus clientes la hora de llegada de sus vuelos. Se conoce la hora de partida del vuelo (en horas, minutos y segundos) y la duración del vuelo (en horas, minutos y segundos).\n",
        "\n",
        "Cree una función que retorne la hora de llegada del vuelo en una cadena con el formato “HH:mm:ss” donde HH es la hora, mm los minutos y ss los segundos de la hora de llegada del vuelo.\n",
        "\n",
        "La hora está dada en formato de 24 horas. Si alguno de los 3 números de la respuesta es menor a 10, sólo se necesita un dígito ('7' en lugar de '07').\n",
        "\n",
        "Su solución debe tener una función de acuerdo con la siguiente especificación:\n",
        "\n",
        "Nombre de la función: calcular_horario_llegada\n",
        "Si lo requiere, puede agregar funciones adicionales."
      ]
    },
    {
      "cell_type": "code",
      "execution_count": null,
      "metadata": {
        "colab": {
          "base_uri": "https://localhost:8080/"
        },
        "id": "J8LquewNcIMX",
        "outputId": "098254ba-8786-41f3-89fb-56878304a6a1"
      },
      "outputs": [
        {
          "name": "stdout",
          "output_type": "stream",
          "text": [
            "Ingrese la hora de salida del vuelo (0-23): 1\n",
            "Ingrese el minuto de salida del vuelo (0-59): 0\n",
            "Ingrese el segundo de salida del vuelo (0-59): 0\n",
            "Ingrese la duración en horas del vuelo: 1\n",
            "Ingrese la duración en minutos adicionales del vuelo: 0\n",
            "Ingrese la duración en segundos adicionales del vuelo: 0\n",
            "02:00:00\n"
          ]
        }
      ],
      "source": [
        "def calcular_horario_llegada():\n",
        "    hora_salida = int(input(\"Ingrese la hora de salida del vuelo (0-23): \"))\n",
        "    minuto_salida = int(input(\"Ingrese el minuto de salida del vuelo (0-59): \"))\n",
        "    segundo_salida = int(input(\"Ingrese el segundo de salida del vuelo (0-59): \"))\n",
        "    duracion_horas = int(input(\"Ingrese la duración en horas del vuelo: \"))\n",
        "    duracion_minutos = int(input(\"Ingrese la duración en minutos adicionales del vuelo: \"))\n",
        "    duracion_segundos = int(input(\"Ingrese la duración en segundos adicionales del vuelo: \"))\n",
        "\n",
        "    segundos_totales = hora_salida * 3600 + minuto_salida * 60 + segundo_salida\n",
        "    duracion_total = duracion_horas * 3600 + duracion_minutos * 60 + duracion_segundos\n",
        "    segundos_llegada = segundos_totales + duracion_total\n",
        "\n",
        "    hora_llegada = segundos_llegada // 3600\n",
        "    minutos_llegada = (segundos_llegada % 3600) // 60\n",
        "    segundos_llegada = segundos_llegada % 60\n",
        "\n",
        "    # Formatear la hora de llegada\n",
        "    hora_llegada_str = str(hora_llegada) if hora_llegada >= 10 else f\"0{hora_llegada}\"\n",
        "    minutos_llegada_str = str(minutos_llegada) if minutos_llegada >= 10 else f\"0{minutos_llegada}\"\n",
        "    segundos_llegada_str = str(segundos_llegada) if segundos_llegada >= 10 else f\"0{segundos_llegada}\"\n",
        "\n",
        "    return f\"{hora_llegada_str}:{minutos_llegada_str}:{segundos_llegada_str}\"\n",
        "\n",
        "# Ejemplo de uso:\n",
        "print(calcular_horario_llegada())\n"
      ]
    },
    {
      "cell_type": "markdown",
      "metadata": {
        "id": "IuXsolsDjQ_4"
      },
      "source": []
    },
    {
      "cell_type": "markdown",
      "metadata": {
        "id": "cgSscvLBjVg2"
      },
      "source": [
        "##Actividad #6\n",
        "Haga las respectivas observaciones del bloque anterior (ejemplos de or y not con f y g)"
      ]
    },
    {
      "cell_type": "code",
      "execution_count": null,
      "metadata": {
        "id": "ckPaK1ffjxki"
      },
      "outputs": [],
      "source": [
        "A = \"valor s\""
      ]
    },
    {
      "cell_type": "code",
      "execution_count": null,
      "metadata": {
        "colab": {
          "base_uri": "https://localhost:8080/"
        },
        "id": "yvEBH1rXjzm-",
        "outputId": "932afaee-495d-4aa4-8409-d9b5dcd92de5"
      },
      "outputs": [
        {
          "data": {
            "text/plain": [
              "True"
            ]
          },
          "execution_count": 13,
          "metadata": {},
          "output_type": "execute_result"
        }
      ],
      "source": [
        "\"Ab\" <= \"ab\""
      ]
    },
    {
      "cell_type": "markdown",
      "metadata": {
        "id": "m6gj2bE7jOZ0"
      },
      "source": [
        "#### Actividad #7\n",
        "\n",
        "**Movimiento robotico**\n",
        "\n",
        "Usted quiere anticipar el movimiento del nuevo robot que recibió como regalo de cumpleaños. El robot tiene una brújula interna que le permite saber hacia qué punto cardinal está mirando actualmente: Norte, Sur, Este, u Oeste. Además, el robot tiene un control remoto que permite girarlo hacia la izquierda o la derecha, y también pedirle que dé media vuelta. Usted debe escribir una función que, dados 3 comandos que se envíen usando el control remoto, calcule la orientación final del robot.\n",
        "\n",
        "Nota: La representación de los puntos cardinales que llegan por parámetro es la siguiente:\n",
        "\n",
        "\"N\", para Norte.\n",
        "\n",
        "\"S\", para Sur.\n",
        "\n",
        "\"E\", para Este.\n",
        "\n",
        "\"W\", para Oeste.\n",
        "\n",
        "Las representaciones de los comandos del control remoto que llegan por parámetro son las siguientes:\n",
        "\n",
        "\"L\", para girar a la izquierda.\n",
        "\n",
        "\"R\", para girar a la derecha.\n",
        "\n",
        "\"H\", para dar media vuelta.\n",
        "\n",
        "\".\", para mantener la orientación actual.   \n",
        "\n",
        "\n",
        "Su solución debe tener una función de acuerdo con la siguiente especificación:\n",
        "\n",
        "Nombre de la función: movimiento_robot\n",
        "\n",
        "Si lo requiere, puede agregar funciones adicionales.\n",
        "\n",
        "Descripción de parámetros:\n",
        "\n",
        "![image.png](data:image/png;base64,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)\n",
        "\n",
        "\n",
        "Descripción del retorno:\n",
        "\n",
        "\n",
        "![image.png](data:image/png;base64,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)"
      ]
    },
    {
      "cell_type": "code",
      "execution_count": null,
      "metadata": {
        "colab": {
          "base_uri": "https://localhost:8080/"
        },
        "id": "I5cbZPNujgN-",
        "outputId": "de54d167-e1d9-4f88-b57b-fd9dd35aa67c"
      },
      "outputs": [
        {
          "name": "stdout",
          "output_type": "stream",
          "text": [
            "Ingrese la orientación actual del robot (N, S, E, W): N\n",
            "Ingrese el primer comando (L, R, H, ''): R\n",
            "Ingrese el segundo comando (L, R, H, ''): H\n",
            "Ingrese el tercer comando (L, R, H, ''): R\n",
            "N\n"
          ]
        }
      ],
      "source": [
        "def movimiento_robot():\n",
        "    orientacion_actual = input(\"Ingrese la orientación actual del robot (N, S, E, W): \").upper()\n",
        "    giro_1 = input(\"Ingrese el primer comando (L, R, H, ''): \").upper()\n",
        "    giro_2 = input(\"Ingrese el segundo comando (L, R, H, ''): \").upper()\n",
        "    giro_3 = input(\"Ingrese el tercer comando (L, R, H, ''): \").upper()\n",
        "\n",
        "    orientaciones = [\"N\", \"E\", \"S\", \"W\"]  # Lista de orientaciones posibles: Norte, Este, Sur, Oeste\n",
        "    idx_orientacion = orientaciones.index(orientacion_actual)  # Obtener el índice de la orientación actual\n",
        "\n",
        "    # Realizar los giros según los comandos recibidos\n",
        "    for giro in [giro_1, giro_2, giro_3]:\n",
        "        if giro == \"L\":  # Girar a la izquierda\n",
        "            idx_orientacion = (idx_orientacion - 1) % 4\n",
        "        elif giro == \"R\":  # Girar a la derecha\n",
        "            idx_orientacion = (idx_orientacion + 1) % 4\n",
        "        elif giro == \"H\":  # Dar media vuelta\n",
        "            idx_orientacion = (idx_orientacion + 2) % 4\n",
        "\n",
        "    # Devolver la orientación final del robot como cadena de texto\n",
        "    return orientaciones[idx_orientacion]\n",
        "\n",
        "# Ejemplo de uso:\n",
        "print(movimiento_robot())\n",
        "\n"
      ]
    },
    {
      "cell_type": "markdown",
      "metadata": {
        "id": "yiG09UKpn-LB"
      },
      "source": [
        "#### Actividad #8\n",
        "\n",
        "**El mejor estudiante**\n",
        "\n",
        "Los estudiantes de un cierto colegio tienen que ver 5 cursos:\n",
        "\n",
        "Matemáticas, Español, Ciencias, Literatura y Arte. Usted debe construir una función que reciba la información de 5 estudiantes y calcule quién es el mejor estudiante (el que tenga el mejor promedio). La información de cada estudiante se representará usando un diccionario con 6 llaves: \"nombre\", que tendrá asociado el nombre del estudiante; \"matematicas\", que tendrá asociada la nota del estudiante en el curso Matemáticas; \"español\", que tendrá asociada la nota del estudiante en el curso Español; \"ciencias\", que tendrá asociada la nota del estudiante en el curso Ciencias; \"literatura\", que tendrá asociada la nota del estudiante en el curso Literatura; y \"arte\", que tendrá asociada la nota del estudiante en el curso Arte. Las notas son números decimales entre 0 y 5.\n",
        "\n",
        "Su función debe retornar el nombre del estudiante que tenga el mejor promedio. Si hay varios con el mejor promedio, debe aparecer el estudiante que tenga el nombre alfabéticamente menor (independientemente de mayúsculas o minúsculas).\n",
        "\n",
        "\n",
        "Su solución debe tener una función de acuerdo con la siguiente especificación:\n",
        "\n",
        "* Nombre de la función: mejor_del_salon\n",
        "\n",
        "Si lo requiere, puede agregar funciones adicionales.\n",
        "\n",
        "Descripción de parámetros:\n",
        "\n",
        "![image.png](data:image/png;base64,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)\n",
        "\n",
        "![image.png](data:image/png;base64,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)"
      ]
    },
    {
      "cell_type": "code",
      "execution_count": null,
      "metadata": {
        "colab": {
          "base_uri": "https://localhost:8080/"
        },
        "id": "s_EQcBYXnK81",
        "outputId": "5478ac86-3563-4ce2-87fc-9802b581c3b8"
      },
      "outputs": [
        {
          "name": "stdout",
          "output_type": "stream",
          "text": [
            "Ingrese el nombre del estudiante 1: Luisa\n",
            "Ingrese la nota de Matemáticas para Luisa (0-5): 5\n",
            "Ingrese la nota de Español para Luisa (0-5): 5\n",
            "Ingrese la nota de Ciencias para Luisa (0-5): 5\n",
            "Ingrese la nota de Literatura para Luisa (0-5): 5\n",
            "Ingrese la nota de Arte para Luisa (0-5): 5\n",
            "Ingrese el nombre del estudiante 2: Angela\n",
            "Ingrese la nota de Matemáticas para Angela (0-5): 5\n",
            "Ingrese la nota de Español para Angela (0-5): 4\n",
            "Ingrese la nota de Ciencias para Angela (0-5): 3\n",
            "Ingrese la nota de Literatura para Angela (0-5): 2\n",
            "Ingrese la nota de Arte para Angela (0-5): 1\n",
            "Ingrese el nombre del estudiante 3: Alexander\n",
            "Ingrese la nota de Matemáticas para Alexander (0-5): 5\n",
            "Ingrese la nota de Español para Alexander (0-5): 4\n",
            "Ingrese la nota de Ciencias para Alexander (0-5): 5\n",
            "Ingrese la nota de Literatura para Alexander (0-5): 4\n",
            "Ingrese la nota de Arte para Alexander (0-5): 5\n",
            "Ingrese el nombre del estudiante 4: Esperanza\n",
            "Ingrese la nota de Matemáticas para Esperanza (0-5): 5\n",
            "Ingrese la nota de Español para Esperanza (0-5): 5\n",
            "Ingrese la nota de Ciencias para Esperanza (0-5): 5\n",
            "Ingrese la nota de Literatura para Esperanza (0-5): 5\n",
            "Ingrese la nota de Arte para Esperanza (0-5): 5\n",
            "Ingrese el nombre del estudiante 5: Juliana\n",
            "Ingrese la nota de Matemáticas para Juliana (0-5): 1\n",
            "Ingrese la nota de Español para Juliana (0-5): 2\n",
            "Ingrese la nota de Ciencias para Juliana (0-5): 3\n",
            "Ingrese la nota de Literatura para Juliana (0-5): 4\n",
            "Ingrese la nota de Arte para Juliana (0-5): 5\n",
            "Esperanza\n"
          ]
        }
      ],
      "source": [
        "def promedio(notas):\n",
        "    return sum(notas.values()) / len(notas)\n",
        "\n",
        "def mejor_del_salon():\n",
        "    estudiantes = {}\n",
        "\n",
        "    # Solicitar al usuario que ingrese la información de cada estudiante\n",
        "    for i in range(1, 6):\n",
        "        nombre = input(f\"Ingrese el nombre del estudiante {i}: \")\n",
        "        matematicas = float(input(f\"Ingrese la nota de Matemáticas para {nombre} (0-5): \"))\n",
        "        español = float(input(f\"Ingrese la nota de Español para {nombre} (0-5): \"))\n",
        "        ciencias = float(input(f\"Ingrese la nota de Ciencias para {nombre} (0-5): \"))\n",
        "        literatura = float(input(f\"Ingrese la nota de Literatura para {nombre} (0-5): \"))\n",
        "        arte = float(input(f\"Ingrese la nota de Arte para {nombre} (0-5): \"))\n",
        "\n",
        "        estudiantes[nombre] = {\"matematicas\": matematicas, \"español\": español,\n",
        "                               \"ciencias\": ciencias, \"literatura\": literatura, \"arte\": arte}\n",
        "\n",
        "    # Calcular el promedio de cada estudiante\n",
        "    promedios = {nombre: promedio(notas) for nombre, notas in estudiantes.items()}\n",
        "\n",
        "    # Encontrar el mejor promedio y el estudiante correspondiente\n",
        "    mejor_promedio = max(promedios.values())\n",
        "    mejores_estudiantes = [nombre for nombre, promedio in promedios.items() if promedio == mejor_promedio]\n",
        "\n",
        "    # Ordenar alfabéticamente y devolver el primer nombre\n",
        "    return sorted(mejores_estudiantes, key=str.lower)[0]\n",
        "\n",
        "# Ejemplo de uso:\n",
        "print(mejor_del_salon())"
      ]
    }
  ],
  "metadata": {
    "colab": {
      "provenance": [],
      "toc_visible": true
    },
    "kernelspec": {
      "display_name": "Python 3",
      "name": "python3"
    },
    "language_info": {
      "name": "python"
    }
  },
  "nbformat": 4,
  "nbformat_minor": 0
}
